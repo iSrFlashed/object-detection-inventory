{
 "cells": [
  {
   "cell_type": "code",
   "execution_count": 1,
   "metadata": {},
   "outputs": [],
   "source": [
    "import os\n",
    "import numpy as np\n",
    "import pandas as pd\n",
    "import matplotlib.pyplot as plt\n",
    "import seaborn as sns\n",
    "import cv2\n",
    "import random\n",
    "from PIL import Image\n",
    "from collections import Counter\n",
    "from tqdm import tqdm\n",
    "import imagehash\n",
    "\n",
    "# Setting the directory where we have the dataset\n",
    "data_dir = \"../data\""
   ]
  },
  {
   "cell_type": "markdown",
   "metadata": {},
   "source": [
    "# Get all images from directory and make random display"
   ]
  },
  {
   "cell_type": "code",
   "execution_count": null,
   "metadata": {},
   "outputs": [],
   "source": [
    "def get_images(path):\n",
    "    \"\"\"\n",
    "    Inspect the specified directory and gets all images along.\n",
    "    \n",
    "    Parameters:\n",
    "    path (str): Directory path containing images.\n",
    "    \n",
    "    Return:\n",
    "    image_paths (list): List with the image paths.\n",
    "    \"\"\"\n",
    "    image_paths = []\n",
    "    valid_extensions = ('jpg', 'png', 'jpeg')  # Valid image extensions\n",
    "    for img_file in os.listdir(path):\n",
    "        if img_file.lower().endswith(valid_extensions):  # Check the extension\n",
    "            image_paths.append(os.path.join(path, img_file))\n",
    "    return image_paths\n",
    "\n",
    "# Upload images and tags to lists\n",
    "image_paths = get_images(data_dir)\n",
    "\n",
    "# Create a DataFrame with the information obtained\n",
    "df = pd.DataFrame({\"image_path\": image_paths})\n",
    "print(\"Total images:\", len(df), \"\\n\")\n",
    "print(df.head())"
   ]
  },
  {
   "cell_type": "code",
   "execution_count": null,
   "metadata": {},
   "outputs": [],
   "source": [
    "# Display random images for visual inspection\n",
    "def show_random_images(df, num_images=6):\n",
    "    \"\"\"\n",
    "    Displays a set of random images from the dataset.\n",
    "    \n",
    "    Parameters:\n",
    "    df (DataFrame): DataFrame containing the image paths.\n",
    "    num_images (int): Number of images to display.\n",
    "    \"\"\"\n",
    "    random_imgs = random.sample(list(df[\"image_path\"][:1000]), num_images)\n",
    "    fig, axes = plt.subplots(1, num_images, figsize=(30,25))\n",
    "    # fig, axes = plt.subplots(2, num_images // 2, figsize=(30,25))\n",
    "    for img_path, ax in zip(random_imgs, axes.flatten()):\n",
    "        img = Image.open(img_path)\n",
    "        ax.imshow(img)\n",
    "        ax.set_title(os.path.basename(img_path))\n",
    "        ax.axis(\"off\")\n",
    "    plt.show()\n",
    "\n",
    "show_random_images(df, 5)"
   ]
  },
  {
   "cell_type": "markdown",
   "metadata": {},
   "source": [
    "# Image size analysis"
   ]
  },
  {
   "cell_type": "code",
   "execution_count": null,
   "metadata": {},
   "outputs": [],
   "source": [
    "sizes = []\n",
    "for img_path in tqdm(df[\"image_path\"][:1000]):  # Analyze a sample to avoid overprocessing\n",
    "    with Image.open(img_path) as img:\n",
    "        sizes.append(img.size)\n",
    "\n",
    "# Convert list to DataFrame for analysis\n",
    "sizes = pd.DataFrame(sizes, columns=[\"width\", \"height\"])\n",
    "\n",
    "# Display size distribution\n",
    "plt.figure(figsize=(10, 5))\n",
    "sns.histplot(sizes[\"width\"], bins=30, kde=True, label=\"Width\", color=\"blue\")\n",
    "sns.histplot(sizes[\"height\"], bins=30, kde=True, label=\"Height\", color=\"red\")\n",
    "plt.legend()\n",
    "plt.title(\"Distribución de tamaños de imagen\")\n",
    "plt.xlabel(\"Pixeles\")\n",
    "plt.ylabel(\"Frecuencia\")\n",
    "plt.show()"
   ]
  },
  {
   "cell_type": "markdown",
   "metadata": {},
   "source": [
    "## Interpretation of a Graph with Variations and Peaks\n",
    "\n",
    "If you notice that the graph shows multiple variations with four distinct peaks, this may indicate several things about the distribution of image sizes in your dataset.\n",
    "\n",
    "### Interpretation of the Peaks:\n",
    "\n",
    "1. **Modes**:\n",
    "   - Each peak in the graph represents a \"mode\" in the size distribution. This means that there are several image sizes that are more common in your dataset.\n",
    "   - For example, if there is a peak at 200x300 pixels, another at 800x600 pixels, and so on, this suggests that there are groups of images that share similar dimensions.\n",
    "\n",
    "2. **Image Categories**:\n",
    "   - The peaks may indicate that the images come from different sources or categories. For example, if you are working with a dataset that includes product images, portraits, and landscapes, each type may have a typical size reflected in the peaks.\n",
    "\n",
    "3. **Quality and Resolution**:\n",
    "   - Variations in sizes may also be related to image quality and resolution. High-quality images may have larger dimensions, while low-quality images may be smaller.\n",
    "\n",
    "4. **Possible Issues**:\n",
    "   - If the peaks are very pronounced and there is a large number of images at extreme sizes, this could indicate an issue in data collection, such as images that were not properly resized.\n",
    "\n",
    "### Conclusion:\n",
    "The presence of multiple peaks in the graph suggests that your dataset is heterogeneous in terms of image sizes. This can be useful for segmenting the data or applying different processing techniques based on image size. Additionally, you might consider normalizing or resizing the images if you plan to conduct analyses that require consistent sizes.\n"
   ]
  },
  {
   "cell_type": "markdown",
   "metadata": {},
   "source": [
    "# Color histogram to analyze the distribution of RGB values"
   ]
  },
  {
   "cell_type": "code",
   "execution_count": null,
   "metadata": {},
   "outputs": [],
   "source": [
    "def plot_color_histogram(image_path, index):\n",
    "    \"\"\"\n",
    "    Generates an RGB color histogram for a given image.\n",
    "    \n",
    "    Parameters:\n",
    "    image_path (str): Path of the image to be analyzed.\n",
    "    index (int): Index of the image in the dataset.\n",
    "    \"\"\"\n",
    "    img = cv2.imread(image_path)\n",
    "    img = cv2.cvtColor(img, cv2.COLOR_BGR2RGB)\n",
    "    colors = (\"r\", \"g\", \"b\")\n",
    "    plt.figure(figsize=(9, 6))\n",
    "    for i, color in enumerate(colors):\n",
    "        hist = cv2.calcHist([img], [i], None, [256], [0, 256])\n",
    "        plt.plot(hist, color=color)\n",
    "    \n",
    "    plt.title(f\"Histograma de colores\\n(File: {image_path})\")\n",
    "    plt.xlabel(\"Intensidad de color\")\n",
    "    plt.ylabel(\"Frecuencia\")\n",
    "    plt.show()\n",
    "\n",
    "random_index = random.randint(0, min(10000, len(image_paths) - 1))  # Genera un índice aleatorio\n",
    "plot_color_histogram(image_paths[random_index], random_index)  # Usa el índice aleatorio"
   ]
  },
  {
   "cell_type": "markdown",
   "metadata": {},
   "source": [
    "## Interpretation of the Color Histogram\n",
    "\n",
    "The graph generated by the code is a color histogram that shows the distribution of RGB (red, green, and blue) values for a specific image. Here’s how to interpret it:\n",
    "\n",
    "### 1. Graph Axes\n",
    "- **X-Axis (Color Intensity)**: This axis represents the intensity of colors, ranging from 0 to 255. A value of 0 means no presence of that color, while 255 indicates maximum intensity.\n",
    "- **Y-Axis (Frequency)**: This axis shows how many pixels in the image have a specific color intensity.\n",
    "\n",
    "### 2. Color Curves\n",
    "- The graph has three curves, each representing one of the primary colors: red, green, and blue.\n",
    "- The height of each curve at a specific point on the X-axis indicates how many pixels have that color intensity.\n",
    "\n",
    "### 3. Interpretation of the Curves\n",
    "- **Peaks in the Curve**: If there are high peaks in a particular color curve, it means that many pixels in the image have that color intensity. For example, a high peak in the red curve indicates many pixels with a high red value.\n",
    "- **Color Distribution**: The general shape of the curves can give you an idea of the image's color palette. If the red curve has a high peak while the others are lower, the image may have a reddish tone.\n",
    "\n",
    "### 4. Image Analysis\n",
    "- You can use the histogram to understand the image’s lighting and contrast. For example, if all curves are concentrated on the left side, the image may be dark. If they are evenly distributed, the image may have a good dynamic range.\n",
    "\n",
    "### Conclusion\n",
    "The color histogram is a useful tool for analyzing an image’s color composition. It helps identify dominant colors and their distribution, which can be valuable for image processing tasks such as color correction or segmentation.\n"
   ]
  },
  {
   "cell_type": "markdown",
   "metadata": {},
   "source": [
    "## Interpretation and Necessary Processing\n",
    "\n",
    "If you notice that the color histograms for different images are quite different, with curves that look distinct and peaks in various parts of the graph, this may indicate several things about the images and their content. Let’s explore what this could mean and some recommendations on how to proceed:\n",
    "\n",
    "### Interpretation of Different Histograms\n",
    "\n",
    "1. **Variety in Lighting**:\n",
    "   - Differences in histograms may indicate that the images were taken under different lighting conditions. For example, an overexposed image may have peaks on the right, while an underexposed one may have peaks on the left.\n",
    "\n",
    "2. **Different Image Sources**:\n",
    "   - If the images come from different sources or categories (e.g., portraits, landscapes, products), they likely have different color palettes and lighting characteristics.\n",
    "\n",
    "3. **Image Quality**:\n",
    "   - Low-quality or highly compressed images may have histograms with a reduced dynamic range, meaning that color values are more concentrated in certain areas.\n",
    "\n",
    "### Adjustments and Corrections\n",
    "\n",
    "1. **Color Correction**:\n",
    "   - You can apply color correction techniques to adjust lighting and color balance, including:\n",
    "     - **Brightness and Contrast Adjustment**: Increasing brightness and contrast can help enhance detail visibility in underexposed images.\n",
    "     - **White Balance Adjustment**: Adjusting white balance can help correct unwanted color tones.\n",
    "\n",
    "2. **Normalization**:\n",
    "   - Consider normalizing the images so they all have a similar range of color values. This can be useful for comparative analysis.\n",
    "\n",
    "3. **Segmentation**:\n",
    "   - If the images represent different categories or types of content, segmentation may be useful. You can classify the images into groups based on their color characteristics and then apply different processing techniques to each group.\n",
    "\n",
    "4. **Histogram Adjustments**:\n",
    "   - You can apply histogram equalization techniques to improve image contrast. This redistributes color intensity values so they occupy a broader range.\n",
    "\n",
    "### Work Strategy\n",
    "\n",
    "1. **Preliminary Analysis**:\n",
    "   - Conduct an initial analysis of the histograms to identify significant patterns and differences.\n",
    "\n",
    "2. **Apply Corrections**:\n",
    "   - Apply the necessary corrections to the images based on the analysis results. This may include brightness, contrast, and color adjustments.\n",
    "\n",
    "3. **Re-evaluation**:\n",
    "   - After applying corrections, reassess the histograms to ensure the images now have more consistent characteristics.\n",
    "\n",
    "4. **Documentation**:\n",
    "   - Document the changes made and the results obtained for future reference and process improvement.\n",
    "\n",
    "### Conclusion\n",
    "Variability in color histograms can provide valuable insights into the capture conditions and quality of the images. By applying appropriate corrections and segmentations, you can enhance image quality and facilitate further analysis.\n",
    "\n"
   ]
  },
  {
   "cell_type": "markdown",
   "metadata": {},
   "source": [
    "---"
   ]
  },
  {
   "cell_type": "markdown",
   "metadata": {},
   "source": [
    "# Aspect Ratio Analysis"
   ]
  },
  {
   "cell_type": "code",
   "execution_count": null,
   "metadata": {},
   "outputs": [],
   "source": [
    "sizes[\"aspect_ratio\"] = sizes[\"width\"] / sizes[\"height\"]\n",
    "plt.figure(figsize=(10, 5))\n",
    "sns.histplot(sizes[\"aspect_ratio\"], bins=30, kde=True, color=\"purple\")\n",
    "plt.title(\"Distribución del Aspect Ratio de las imágenes\")\n",
    "plt.xlabel(\"Aspect Ratio\")\n",
    "plt.ylabel(\"Frecuencia\")\n",
    "plt.show()\n"
   ]
  },
  {
   "cell_type": "markdown",
   "metadata": {},
   "source": [
    "## Interpretation of the Aspect Ratio Distribution Chart\n",
    "\n",
    "1. **Graph Axes**:\n",
    "   - **X-Axis (Aspect Ratio)**: This axis represents the aspect ratio of the images, calculated as width divided by height. A value of 1 indicates a square image, values less than 1 indicate images that are taller than they are wide, and values greater than 1 indicate images that are wider than they are tall.\n",
    "   - **Y-Axis (Frequency)**: This axis shows how many images have a specific aspect ratio.\n",
    "\n",
    "2. **Distribution Curve**:\n",
    "   - The shape of the curve in the graph indicates how aspect ratios are distributed in your dataset.\n",
    "   - If the curve has a peak at a specific value, it means that many images share that aspect ratio. For example, a peak at 16:9 would indicate that many of your images are in widescreen format, which is common in videos and photographs.\n",
    "\n",
    "3. **Interpretation of Peaks**:\n",
    "   - **Peaks in the Curve**: If there are multiple peaks, this may indicate different categories of images in your dataset. For example, portrait images may have a higher aspect ratio (taller than wide), while landscape images may have a lower aspect ratio (wider than tall).\n",
    "   - **Uniform Distribution**: If the curve is relatively flat, this suggests a variety of aspect ratios in the images, indicating a diverse dataset.\n",
    "\n",
    "4. **Image Quality Analysis**:\n",
    "   - Aspect ratio can also influence the visual quality of images. For example, images with unusual aspect ratios may require cropping or adjustments to be used in certain contexts, such as presentations or publications.\n",
    "\n",
    "### Conclusion\n",
    "The aspect ratio distribution chart provides valuable insights into the dimensions of the images in your dataset. By analyzing this distribution, you can identify patterns and characteristics that may be useful for image processing, data segmentation, or preparing images for use in different applications.\n"
   ]
  },
  {
   "cell_type": "markdown",
   "metadata": {},
   "source": [
    "# Duplicate Analysis with Perceptual Hashing"
   ]
  },
  {
   "cell_type": "markdown",
   "metadata": {},
   "source": [
    "- Compare image histograms to find possible duplicates.\n",
    "- Using perceptual hashing to find similar images."
   ]
  },
  {
   "cell_type": "code",
   "execution_count": null,
   "metadata": {},
   "outputs": [],
   "source": [
    "def find_duplicates(image_paths):\n",
    "    \"\"\"\n",
    "    Identify duplicate images using perceptual hashing.\n",
    "    \n",
    "    Parameters:\n",
    "    image_paths (list): List of image paths.\n",
    "    \n",
    "    Return:\n",
    "    duplicates (list): List of detected duplicate images.\n",
    "    \"\"\"\n",
    "    hashes = {}\n",
    "    duplicates = []\n",
    "    for img_path in tqdm(image_paths):  # Limitar para rendimiento\n",
    "        with Image.open(img_path) as img:\n",
    "            h = str(imagehash.average_hash(img))\n",
    "            if h in hashes:\n",
    "                duplicates.append((img_path, hashes[h]))\n",
    "            else:\n",
    "                hashes[h] = img_path\n",
    "    return duplicates\n",
    "\n",
    "print(f\"Total de imágenes que vamos a analizar: {len(image_paths)}\")\n",
    "duplicates = find_duplicates(image_paths)\n",
    "print(f\"Total de imágenes duplicadas detectadas: {len(duplicates)}\")"
   ]
  },
  {
   "cell_type": "markdown",
   "metadata": {},
   "source": [
    "# Corrupt Image Detection"
   ]
  },
  {
   "cell_type": "code",
   "execution_count": null,
   "metadata": {},
   "outputs": [],
   "source": [
    "\n",
    "def detect_corrupt_images(image_paths):\n",
    "    \"\"\"\n",
    "    Detects corrupted images by attempting to open them with PIL.\n",
    "    \n",
    "    Parameters:\n",
    "    image_paths (list): List of image paths.\n",
    "    \n",
    "    Returns:\n",
    "    corrupt_images (list): List of images that could not be opened.\n",
    "    \"\"\"\n",
    "    corrupt_images = []\n",
    "    for img_path in tqdm(image_paths):\n",
    "        try:\n",
    "            with Image.open(img_path) as img:\n",
    "                img.verify()  # Check if the image is corrupted\n",
    "        except (UnidentifiedImageError, IOError):\n",
    "            corrupt_images.append(img_path)\n",
    "    return corrupt_images\n",
    "\n",
    "print(f\"Total number of images we are going to analyze: {len(image_paths)}\")\n",
    "corrupt_images = detect_corrupt_images(image_paths)\n",
    "print(f\"Total corrupt images detected: {len(corrupt_images)}\")"
   ]
  }
 ],
 "metadata": {
  "kernelspec": {
   "display_name": "smart_shelf_env",
   "language": "python",
   "name": "python3"
  },
  "language_info": {
   "codemirror_mode": {
    "name": "ipython",
    "version": 3
   },
   "file_extension": ".py",
   "mimetype": "text/x-python",
   "name": "python",
   "nbconvert_exporter": "python",
   "pygments_lexer": "ipython3",
   "version": "3.9.0"
  }
 },
 "nbformat": 4,
 "nbformat_minor": 2
}
