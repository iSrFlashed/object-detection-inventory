{
  "cells": [
    {
      "cell_type": "code",
      "execution_count": null,
      "metadata": {
        "id": "PtMuuWgd9iHn"
      },
      "outputs": [],
      "source": [
        "!pip install boto3 tqdm ultralytics roboflow"
      ]
    },
    {
      "cell_type": "code",
      "execution_count": null,
      "metadata": {
        "id": "L8s3JXjN9nby"
      },
      "outputs": [],
      "source": [
        "from google.colab import drive\n",
        "drive.mount('/content/drive')"
      ]
    },
    {
      "cell_type": "code",
      "execution_count": null,
      "metadata": {
        "id": "eRCyivyi9zM0"
      },
      "outputs": [],
      "source": [
        "from ultralytics import YOLO\n",
        "\n",
        "# Load the pre-trained YOLOv8 model\n",
        "model = YOLO(\"yolov8m.pt\")\n",
        "\n",
        "model.train(\n",
        "    data=\"/content/drive/MyDrive/Combined_Dataset/dataset.yaml\",\n",
        "    epochs=300,\n",
        "    batch=16,\n",
        "    imgsz=640,\n",
        "    device=\"cuda\",\n",
        "    lrf=0.0001,\n",
        "    patience=0,\n",
        "    #cache=True,\n",
        "    workers=32\n",
        ")"
      ]
    },
    {
      "cell_type": "code",
      "execution_count": null,
      "metadata": {
        "id": "ib889zbf90Un"
      },
      "outputs": [],
      "source": [
        "from ultralytics import YOLO\n",
        "\n",
        "model = YOLO(\"/content/runs/detect/train/weights/best.pt\")\n",
        "\n",
        "destination_path = \"/content/drive/MyDrive/YOLOv8_Model/best.pt\"\n",
        "\n",
        "# Copy model to Drive\n",
        "import shutil\n",
        "shutil.copy(\"/content/runs/detect/train/weights/best.pt\", destination_path)\n",
        "\n",
        "print(f\"Model successfully saved in: {destination_path}\")"
      ]
    },
    {
      "cell_type": "code",
      "execution_count": null,
      "metadata": {
        "id": "rrTQKv63-HZA"
      },
      "outputs": [],
      "source": [
        "import cv2\n",
        "import matplotlib.pyplot as plt\n",
        "\n",
        "# Function to draw bounding boxes\n",
        "def plot_image_with_boxes(image_path, label_path, class_names=[\"class_0\", \"class_1\"]):\n",
        "\n",
        "    img = cv2.imread(image_path)\n",
        "    if img is None:\n",
        "        print(f\"❌ Error: The image was not found in the path: {image_path}\")\n",
        "        return\n",
        "    img = cv2.cvtColor(img, cv2.COLOR_BGR2RGB)\n",
        "\n",
        "    img_height, img_width, _ = img.shape\n",
        "\n",
        "    with open(label_path, 'r') as file:\n",
        "        lines = file.readlines()\n",
        "\n",
        "    colors = [(0, 255, 0), (255, 0, 0)]\n",
        "\n",
        "    for line in lines:\n",
        "        parts = line.strip().split()\n",
        "        class_id = int(parts[0])  # ID de la clase\n",
        "        x_center, y_center, width, height = map(float, parts[1:])\n",
        "\n",
        "        # Convert normalized coordinates to pixels\n",
        "        x_min = int((x_center - width / 2) * img_width)\n",
        "        y_min = int((y_center - height / 2) * img_height)\n",
        "        x_max = int((x_center + width / 2) * img_width)\n",
        "        y_max = int((y_center + height / 2) * img_height)\n",
        "\n",
        "        cv2.rectangle(img, (x_min, y_min), (x_max, y_max), colors[class_id], 2)\n",
        "        cv2.putText(img, class_names[class_id], (x_min, y_min - 5),\n",
        "                    cv2.FONT_HERSHEY_SIMPLEX, 0.5, colors[class_id], 2)\n",
        "\n",
        "    plt.figure(figsize=(8, 8))\n",
        "    plt.imshow(img)\n",
        "    plt.axis('off')\n",
        "    plt.show()\n",
        "\n",
        "image_path = \"/content/drive/MyDrive/Combined_Dataset/images/test/test_438.jpg\"\n",
        "label_path = \"/content/drive/MyDrive/Combined_Dataset/labels/test/test_438.txt\"\n",
        "plot_image_with_boxes(image_path, label_path, class_names=[\"product\", \"missed\"])"
      ]
    },
    {
      "cell_type": "code",
      "execution_count": null,
      "metadata": {
        "id": "3xsL7Zfj-Oad"
      },
      "outputs": [],
      "source": [
        "# Load the trained YOLOv8 model\n",
        "model = YOLO(\"/content/drive/MyDrive/YOLOv8_Model/best.pt\")\n",
        "\n",
        "# Test image path\n",
        "image_path = \"/content/drive/MyDrive/Combined_Dataset/images/test/test_438.jpg\"\n",
        "\n",
        "# Make the prediction\n",
        "results = model.predict(image_path, imgsz=640, conf=0.3)\n",
        "\n",
        "image = cv2.imread(image_path)\n",
        "\n",
        "class_colors = {\n",
        "    0: (0, 255, 0),\n",
        "    1: (0, 0, 255)\n",
        "}\n",
        "\n",
        "for result in results:\n",
        "    for box in result.boxes:\n",
        "        x1, y1, x2, y2 = map(int, box.xyxy[0])  # Box coordinates\n",
        "        class_id = int(box.cls[0])  # Class ID\n",
        "        conf = box.conf[0]  # Confidence of the prediction\n",
        "\n",
        "        color = class_colors.get(class_id, (255, 255, 255))\n",
        "\n",
        "        # Draw the bounding box\n",
        "        cv2.rectangle(image, (x1, y1), (x2, y2), color, 3)\n",
        "        cv2.putText(image, f'{result.names[class_id]} {conf:.2f}',\n",
        "                    (x1, y1 - 10), cv2.FONT_HERSHEY_SIMPLEX, 0.9, color, 2)\n",
        "\n",
        "plt.figure(figsize=(10, 10))\n",
        "plt.imshow(cv2.cvtColor(image, cv2.COLOR_BGR2RGB))\n",
        "plt.axis('off')\n",
        "plt.show()\n"
      ]
    }
  ],
  "metadata": {
    "colab": {
      "provenance": []
    },
    "kernelspec": {
      "display_name": "Python 3",
      "name": "python3"
    },
    "language_info": {
      "name": "python"
    }
  },
  "nbformat": 4,
  "nbformat_minor": 0
}
